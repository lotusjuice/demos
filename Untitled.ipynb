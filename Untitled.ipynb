{
 "cells": [
  {
   "cell_type": "code",
   "execution_count": 1,
   "id": "9d9f6a5a-0830-40a0-abcb-f99824e64aa9",
   "metadata": {},
   "outputs": [
    {
     "data": {
      "text/plain": [
       "int"
      ]
     },
     "execution_count": 1,
     "metadata": {},
     "output_type": "execute_result"
    }
   ],
   "source": [
    "type(9)\n"
   ]
  },
  {
   "cell_type": "code",
   "execution_count": null,
   "id": "2247cf04-fcf5-42d5-a31f-962bb2a2ad5f",
   "metadata": {},
   "outputs": [],
   "source": []
  },
  {
   "cell_type": "code",
   "execution_count": 2,
   "id": "fa5d413a-09cc-4039-9027-86d4139f46d2",
   "metadata": {},
   "outputs": [],
   "source": [
    "list_str = [\"Toyota Camry\", \"Honda Accord\", \"Honda Civic\", \"Toyota Corolla\"] "
   ]
  },
  {
   "cell_type": "code",
   "execution_count": 3,
   "id": "058c1213-913c-4500-96c5-c19e24d6e416",
   "metadata": {},
   "outputs": [
    {
     "data": {
      "text/plain": [
       "['Toyota Camry', 'Honda Accord', 'Honda Civic', 'Toyota Corolla']"
      ]
     },
     "execution_count": 3,
     "metadata": {},
     "output_type": "execute_result"
    }
   ],
   "source": [
    "list_str"
   ]
  },
  {
   "cell_type": "code",
   "execution_count": 4,
   "id": "a943b0d2-28d1-4862-8b7f-50bdda137ef3",
   "metadata": {},
   "outputs": [
    {
     "data": {
      "text/plain": [
       "list"
      ]
     },
     "execution_count": 4,
     "metadata": {},
     "output_type": "execute_result"
    }
   ],
   "source": [
    "list"
   ]
  },
  {
   "cell_type": "code",
   "execution_count": 5,
   "id": "70ea4ae3-e2cd-4742-b8e4-5c6c28a9342f",
   "metadata": {},
   "outputs": [
    {
     "data": {
      "text/plain": [
       "type[['Toyota Camry', 'Honda Accord', 'Honda Civic', 'Toyota Corolla']]"
      ]
     },
     "execution_count": 5,
     "metadata": {},
     "output_type": "execute_result"
    }
   ],
   "source": [
    "type[list_str]"
   ]
  },
  {
   "cell_type": "code",
   "execution_count": null,
   "id": "d9b7e9da-fa52-4894-9bc7-c43316c2b1d7",
   "metadata": {},
   "outputs": [],
   "source": []
  },
  {
   "cell_type": "code",
   "execution_count": 7,
   "id": "81b58c57-2f74-4dc4-85a0-e344f0577226",
   "metadata": {},
   "outputs": [
    {
     "data": {
      "text/plain": [
       "list"
      ]
     },
     "execution_count": 7,
     "metadata": {},
     "output_type": "execute_result"
    }
   ],
   "source": [
    "type(list_str)"
   ]
  },
  {
   "cell_type": "code",
   "execution_count": 8,
   "id": "5abeaba6-9839-481c-90cd-8e2f97ee58cf",
   "metadata": {},
   "outputs": [
    {
     "data": {
      "text/plain": [
       "'Honda Accord'"
      ]
     },
     "execution_count": 8,
     "metadata": {},
     "output_type": "execute_result"
    }
   ],
   "source": [
    "list_str[1]"
   ]
  },
  {
   "cell_type": "code",
   "execution_count": 9,
   "id": "34288369-e30b-4063-83e0-b06228e69851",
   "metadata": {},
   "outputs": [
    {
     "name": "stdout",
     "output_type": "stream",
     "text": [
      "Honda Accord\n"
     ]
    }
   ],
   "source": [
    "print(list_str[1])\n"
   ]
  },
  {
   "cell_type": "code",
   "execution_count": 10,
   "id": "49b885b8-c837-48aa-8f40-88191bb6359d",
   "metadata": {},
   "outputs": [
    {
     "data": {
      "text/plain": [
       "4"
      ]
     },
     "execution_count": 10,
     "metadata": {},
     "output_type": "execute_result"
    }
   ],
   "source": [
    "len(list_str)\n"
   ]
  },
  {
   "cell_type": "code",
   "execution_count": 11,
   "id": "23f0990d-51aa-4dad-8269-81447116a07a",
   "metadata": {},
   "outputs": [
    {
     "name": "stdout",
     "output_type": "stream",
     "text": [
      "Car at index 2 is: Honda Civic\n"
     ]
    }
   ],
   "source": [
    "print(\"Car at index 2 is:\", list_str[2]) \n"
   ]
  },
  {
   "cell_type": "code",
   "execution_count": 15,
   "id": "10069931-a5c5-49c4-945d-39a193e89eed",
   "metadata": {},
   "outputs": [
    {
     "ename": "TypeError",
     "evalue": "list indices must be integers or slices, not tuple",
     "output_type": "error",
     "traceback": [
      "\u001b[1;31m---------------------------------------------------------------------------\u001b[0m",
      "\u001b[1;31mTypeError\u001b[0m                                 Traceback (most recent call last)",
      "Cell \u001b[1;32mIn[15], line 1\u001b[0m\n\u001b[1;32m----> 1\u001b[0m \u001b[38;5;28mprint\u001b[39m(list_str[\u001b[38;5;241m1\u001b[39m, \u001b[38;5;241m2\u001b[39m])\n",
      "\u001b[1;31mTypeError\u001b[0m: list indices must be integers or slices, not tuple"
     ]
    }
   ],
   "source": [
    "print(list_str[1, 2]) \n"
   ]
  },
  {
   "cell_type": "code",
   "execution_count": 22,
   "id": "fedfd8ef-9609-4f95-b54a-da1528891aa4",
   "metadata": {},
   "outputs": [
    {
     "name": "stdout",
     "output_type": "stream",
     "text": [
      "Honda Civic\n"
     ]
    }
   ],
   "source": [
    "print(list_str[-2])\n"
   ]
  },
  {
   "cell_type": "code",
   "execution_count": 23,
   "id": "2db7d34e-58e2-4e40-aa92-8da1efd724f5",
   "metadata": {},
   "outputs": [
    {
     "data": {
      "text/plain": [
       "4"
      ]
     },
     "execution_count": 23,
     "metadata": {},
     "output_type": "execute_result"
    }
   ],
   "source": [
    "len(list_str) "
   ]
  },
  {
   "cell_type": "code",
   "execution_count": 30,
   "id": "d0a3595b-31c4-470a-b353-851e942bef15",
   "metadata": {},
   "outputs": [
    {
     "ename": "TypeError",
     "evalue": "'str' object does not support item assignment",
     "output_type": "error",
     "traceback": [
      "\u001b[1;31m---------------------------------------------------------------------------\u001b[0m",
      "\u001b[1;31mTypeError\u001b[0m                                 Traceback (most recent call last)",
      "Cell \u001b[1;32mIn[30], line 1\u001b[0m\n\u001b[1;32m----> 1\u001b[0m list_str[\u001b[38;5;241m3\u001b[39m] \u001b[38;5;241m=\u001b[39m \u001b[38;5;124m\"\u001b[39m\u001b[38;5;124mNissan Altima\u001b[39m\u001b[38;5;124m\"\u001b[39m \n\u001b[0;32m      2\u001b[0m \u001b[38;5;28mprint\u001b[39m(\u001b[38;5;124m\"\u001b[39m\u001b[38;5;124mNew car at index 3 is:\u001b[39m\u001b[38;5;124m\"\u001b[39m, list_str[\u001b[38;5;241m3\u001b[39m])\n",
      "\u001b[1;31mTypeError\u001b[0m: 'str' object does not support item assignment"
     ]
    }
   ],
   "source": [
    "print(\"New car at index 3 is:\", list_str[3])"
   ]
  },
  {
   "cell_type": "code",
   "execution_count": 34,
   "id": "90cbc04b-79b6-4615-a430-2f00dcccc63d",
   "metadata": {},
   "outputs": [
    {
     "data": {
      "text/plain": [
       "'Nissan Altima'"
      ]
     },
     "execution_count": 34,
     "metadata": {},
     "output_type": "execute_result"
    }
   ],
   "source": [
    "list_str"
   ]
  },
  {
   "cell_type": "code",
   "execution_count": 16,
   "id": "ab84f58f-d92d-4f47-93d2-359d7047ab9f",
   "metadata": {},
   "outputs": [],
   "source": [
    "cars_list = [\"Toyota Camry\", \"Honda Accord\", \"Honda Civic\", \"Toyota Corolla\"] "
   ]
  },
  {
   "cell_type": "code",
   "execution_count": 38,
   "id": "0c790fb1-3f54-43c9-af0a-1a6807db4535",
   "metadata": {},
   "outputs": [
    {
     "data": {
      "text/plain": [
       "['Toyota Camry', 'Honda Accord', 'Honda Civic', 'Toyota Corolla']"
      ]
     },
     "execution_count": 38,
     "metadata": {},
     "output_type": "execute_result"
    }
   ],
   "source": [
    "cars_list"
   ]
  },
  {
   "cell_type": "code",
   "execution_count": 41,
   "id": "ea9b3db8-0fdc-48f3-a52e-efeddcbbe049",
   "metadata": {},
   "outputs": [
    {
     "name": "stdout",
     "output_type": "stream",
     "text": [
      "New car at index 3 is: Nissan Altima\n"
     ]
    },
    {
     "data": {
      "text/plain": [
       "['Toyota Camry', 'Honda Accord', 'Honda Civic', 'Nissan Altima']"
      ]
     },
     "execution_count": 41,
     "metadata": {},
     "output_type": "execute_result"
    }
   ],
   "source": [
    "cars_list[3] = \"Nissan Altima\" \n",
    "\n",
    "print(\"New car at index 3 is:\", cars_list[3]) \n",
    "\n",
    "cars_list"
   ]
  },
  {
   "cell_type": "code",
   "execution_count": 43,
   "id": "b223e0a3-4d99-4110-b554-57688b3180dc",
   "metadata": {},
   "outputs": [
    {
     "name": "stdout",
     "output_type": "stream",
     "text": [
      "New car at index 2 is: Hyundai Elantra\n"
     ]
    }
   ],
   "source": [
    "cars_list[2] = \"Hyundai Elantra\" \n",
    "print(\"New car at index 2 is:\", cars_list[2]) "
   ]
  },
  {
   "cell_type": "code",
   "execution_count": 44,
   "id": "c5bc2c27-ea08-4dec-891f-5e53a2400069",
   "metadata": {},
   "outputs": [
    {
     "data": {
      "text/plain": [
       "['Toyota Camry', 'Honda Accord', 'Hyundai Elantra', 'Nissan Altima']"
      ]
     },
     "execution_count": 44,
     "metadata": {},
     "output_type": "execute_result"
    }
   ],
   "source": [
    "cars_list "
   ]
  },
  {
   "cell_type": "code",
   "execution_count": 45,
   "id": "74c2d55a-8eaa-45a9-8e57-ef3191e5c9b2",
   "metadata": {},
   "outputs": [
    {
     "data": {
      "text/plain": [
       "['Toyota Camry', 'Honda Accord', 'Hyundai Elantra', 'Nissan Altima']"
      ]
     },
     "execution_count": 45,
     "metadata": {},
     "output_type": "execute_result"
    }
   ],
   "source": [
    "cars_list = ['Toyota Camry', 'Honda Accord', \n",
    "             'Hyundai Elantra', 'Nissan Altima'] \n",
    "cars_list "
   ]
  },
  {
   "cell_type": "code",
   "execution_count": 47,
   "id": "c2427b5d-9360-4b6a-9f47-631aa4d250bd",
   "metadata": {},
   "outputs": [
    {
     "ename": "IndexError",
     "evalue": "list assignment index out of range",
     "output_type": "error",
     "traceback": [
      "\u001b[1;31m---------------------------------------------------------------------------\u001b[0m",
      "\u001b[1;31mIndexError\u001b[0m                                Traceback (most recent call last)",
      "Cell \u001b[1;32mIn[47], line 1\u001b[0m\n\u001b[1;32m----> 1\u001b[0m cars_list[\u001b[38;5;241m4\u001b[39m] \u001b[38;5;241m=\u001b[39m \u001b[38;5;124m'\u001b[39m\u001b[38;5;124mHyundai Elantra\u001b[39m\u001b[38;5;124m'\u001b[39m \n\u001b[0;32m      3\u001b[0m cars_list\n",
      "\u001b[1;31mIndexError\u001b[0m: list assignment index out of range"
     ]
    }
   ],
   "source": [
    "cars_list[4] = 'Hyundai Elantra' \n",
    "\n",
    "cars_list "
   ]
  },
  {
   "cell_type": "code",
   "execution_count": 48,
   "id": "e3e86e2c-5809-415e-bec2-bc7f8040d85c",
   "metadata": {},
   "outputs": [
    {
     "data": {
      "text/plain": [
       "['Toyota Camry',\n",
       " 'Honda Accord',\n",
       " 'Hyundai Elantra',\n",
       " 'Nissan Altima',\n",
       " 'Hyundai Elantra']"
      ]
     },
     "execution_count": 48,
     "metadata": {},
     "output_type": "execute_result"
    }
   ],
   "source": [
    "cars_list.append(\"Hyundai Elantra\") \n",
    "\n",
    "cars_list"
   ]
  },
  {
   "cell_type": "code",
   "execution_count": 15,
   "id": "b71caeda-0b65-4e2e-aeeb-c897009059f6",
   "metadata": {},
   "outputs": [
    {
     "ename": "NameError",
     "evalue": "name 'cars_list' is not defined",
     "output_type": "error",
     "traceback": [
      "\u001b[1;31m---------------------------------------------------------------------------\u001b[0m",
      "\u001b[1;31mNameError\u001b[0m                                 Traceback (most recent call last)",
      "Cell \u001b[1;32mIn[15], line 1\u001b[0m\n\u001b[1;32m----> 1\u001b[0m cars_list\u001b[38;5;241m.\u001b[39mappend(\u001b[38;5;124m'\u001b[39m\u001b[38;5;124mDodge Charger\u001b[39m\u001b[38;5;124m'\u001b[39m) \n\u001b[0;32m      3\u001b[0m cars_list\n",
      "\u001b[1;31mNameError\u001b[0m: name 'cars_list' is not defined"
     ]
    }
   ],
   "source": [
    "cars_list.append('Dodge Charger') \n",
    "\n",
    "cars_list "
   ]
  },
  {
   "cell_type": "code",
   "execution_count": 11,
   "id": "f2517032-f71d-41b8-8861-59cd5fdfe45f",
   "metadata": {},
   "outputs": [
    {
     "name": "stdout",
     "output_type": "stream",
     "text": [
      "Should get more stalkers\n",
      "{'a': 'Ruben', 'b': 'Sucks', 'c': 'Should get more stalkers', 'f': 'latinas'}\n"
     ]
    }
   ],
   "source": [
    "dictionary = {'a':\"Ruben\", 'b':\"Sucks\", 'c':\"Should get more stalkers\"}\n",
    "\n",
    "print(dictionary['c']) \n",
    "dictionary['f'] = 'latinas'\n",
    "print(dictionary)"
   ]
  },
  {
   "cell_type": "code",
   "execution_count": 8,
   "id": "00f4c57d-3633-49d1-a478-2931cb3a186a",
   "metadata": {},
   "outputs": [],
   "source": [
    "dictionary['latinas'] = 'd'"
   ]
  },
  {
   "cell_type": "raw",
   "id": "824421e9-f6b1-4ce9-9b39-5669c51164e2",
   "metadata": {},
   "source": [
    "print(dictionary)"
   ]
  },
  {
   "cell_type": "code",
   "execution_count": 18,
   "id": "17ba7343-f739-40d4-9819-45379e95b9bd",
   "metadata": {},
   "outputs": [],
   "source": [
    "cars_list.extend([\"Toyota Highlander\", \"Acura RDX\"])"
   ]
  },
  {
   "cell_type": "code",
   "execution_count": 19,
   "id": "73e2f959-1254-4869-aa2f-6e41a0eb20bd",
   "metadata": {},
   "outputs": [
    {
     "name": "stdout",
     "output_type": "stream",
     "text": [
      "['Toyota Camry', 'Honda Accord', 'Honda Civic', 'Toyota Corolla', 'Toyota Highlander', 'Acura RDX']\n"
     ]
    }
   ],
   "source": [
    "print(cars_list) "
   ]
  },
  {
   "cell_type": "code",
   "execution_count": null,
   "id": "04535778-9ccf-4581-982a-db3c3a187417",
   "metadata": {},
   "outputs": [],
   "source": []
  }
 ],
 "metadata": {
  "kernelspec": {
   "display_name": "Python 3 (ipykernel)",
   "language": "python",
   "name": "python3"
  },
  "language_info": {
   "codemirror_mode": {
    "name": "ipython",
    "version": 3
   },
   "file_extension": ".py",
   "mimetype": "text/x-python",
   "name": "python",
   "nbconvert_exporter": "python",
   "pygments_lexer": "ipython3",
   "version": "3.13.5"
  }
 },
 "nbformat": 4,
 "nbformat_minor": 5
}
